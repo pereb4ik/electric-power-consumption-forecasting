{
 "cells": [
  {
   "cell_type": "code",
   "execution_count": 1,
   "id": "db15f0aa",
   "metadata": {},
   "outputs": [],
   "source": [
    "import matplotlib.pyplot as plt\n",
    "import pandas as pd\n",
    "import numpy as np\n",
    "\n",
    "\n",
    "%config InlineBackend.figure_format = 'retina'\n",
    "#plt.rcParams['figure.figsize'] = 8, 5\n",
    "#plt.rcParams['font.size'] = 12\n",
    "plt.rcParams['savefig.format'] = 'pdf'"
   ]
  },
  {
   "cell_type": "code",
   "execution_count": 2,
   "id": "4873a57e",
   "metadata": {},
   "outputs": [],
   "source": [
    "data = pd.read_csv(\"powerconsumption.csv\")\n",
    "data['Datetime'] = pd.to_datetime(data['Datetime'])\n",
    "\n",
    "df = data[['Datetime', 'PowerConsumption_Zone1']].copy()\n",
    "\n",
    "df = df.set_index('Datetime')\n",
    "df = df.resample('h').mean()\n",
    "\n",
    "df = df.rename(columns={\"PowerConsumption_Zone1\": \"count\"})\n",
    "df = df.reset_index()\n",
    "\n",
    "df = df.rename(columns={\"Datetime\": \"ds\"})\n",
    "df = df.rename(columns={\"count\": \"y\"})\n",
    "df['unique_id'] = 1.0"
   ]
  },
  {
   "cell_type": "code",
   "execution_count": 3,
   "id": "e7af5f70",
   "metadata": {},
   "outputs": [
    {
     "data": {
      "application/vnd.microsoft.datawrangler.viewer.v0+json": {
       "columns": [
        {
         "name": "index",
         "rawType": "int64",
         "type": "integer"
        },
        {
         "name": "ds",
         "rawType": "datetime64[ns]",
         "type": "datetime"
        },
        {
         "name": "y",
         "rawType": "float64",
         "type": "float"
        },
        {
         "name": "unique_id",
         "rawType": "float64",
         "type": "float"
        }
       ],
       "ref": "32143086-097a-4059-aee1-e888ad70b53d",
       "rows": [
        [
         "0",
         "2017-01-01 00:00:00",
         "29197.974683333334",
         "1.0"
        ],
        [
         "1",
         "2017-01-01 01:00:00",
         "24657.21519",
         "1.0"
        ],
        [
         "2",
         "2017-01-01 02:00:00",
         "22083.037973333336",
         "1.0"
        ],
        [
         "3",
         "2017-01-01 03:00:00",
         "20811.13924",
         "1.0"
        ],
        [
         "4",
         "2017-01-01 04:00:00",
         "20475.949366666668",
         "1.0"
        ],
        [
         "5",
         "2017-01-01 05:00:00",
         "20807.088606666668",
         "1.0"
        ],
        [
         "6",
         "2017-01-01 06:00:00",
         "21648.607594999998",
         "1.0"
        ],
        [
         "7",
         "2017-01-01 07:00:00",
         "18540.759495000002",
         "1.0"
        ],
        [
         "8",
         "2017-01-01 08:00:00",
         "19605.06329",
         "1.0"
        ],
        [
         "9",
         "2017-01-01 09:00:00",
         "22905.316455000004",
         "1.0"
        ],
        [
         "10",
         "2017-01-01 10:00:00",
         "26685.56962",
         "1.0"
        ],
        [
         "11",
         "2017-01-01 11:00:00",
         "29288.101265",
         "1.0"
        ],
        [
         "12",
         "2017-01-01 12:00:00",
         "29889.620255",
         "1.0"
        ],
        [
         "13",
         "2017-01-01 13:00:00",
         "30231.898735",
         "1.0"
        ],
        [
         "14",
         "2017-01-01 14:00:00",
         "29898.734176666665",
         "1.0"
        ],
        [
         "15",
         "2017-01-01 15:00:00",
         "29218.227846666665",
         "1.0"
        ],
        [
         "16",
         "2017-01-01 16:00:00",
         "28730.12658333333",
         "1.0"
        ],
        [
         "17",
         "2017-01-01 17:00:00",
         "34423.29113666667",
         "1.0"
        ],
        [
         "18",
         "2017-01-01 18:00:00",
         "39619.24050666666",
         "1.0"
        ],
        [
         "19",
         "2017-01-01 19:00:00",
         "40318.98734166667",
         "1.0"
        ],
        [
         "20",
         "2017-01-01 20:00:00",
         "40371.64556833333",
         "1.0"
        ],
        [
         "21",
         "2017-01-01 21:00:00",
         "38712.91139166666",
         "1.0"
        ],
        [
         "22",
         "2017-01-01 22:00:00",
         "34972.15189666667",
         "1.0"
        ],
        [
         "23",
         "2017-01-01 23:00:00",
         "30072.91139166667",
         "1.0"
        ],
        [
         "24",
         "2017-01-02 00:00:00",
         "25303.291138333338",
         "1.0"
        ],
        [
         "25",
         "2017-01-02 01:00:00",
         "22512.405061666665",
         "1.0"
        ],
        [
         "26",
         "2017-01-02 02:00:00",
         "20945.822783333333",
         "1.0"
        ],
        [
         "27",
         "2017-01-02 03:00:00",
         "20097.21518833333",
         "1.0"
        ],
        [
         "28",
         "2017-01-02 04:00:00",
         "20066.835441666666",
         "1.0"
        ],
        [
         "29",
         "2017-01-02 05:00:00",
         "20838.481011666667",
         "1.0"
        ],
        [
         "30",
         "2017-01-02 06:00:00",
         "23307.341773333334",
         "1.0"
        ],
        [
         "31",
         "2017-01-02 07:00:00",
         "22895.189871666666",
         "1.0"
        ],
        [
         "32",
         "2017-01-02 08:00:00",
         "24368.607594999998",
         "1.0"
        ],
        [
         "33",
         "2017-01-02 09:00:00",
         "24505.316454999996",
         "1.0"
        ],
        [
         "34",
         "2017-01-02 10:00:00",
         "26384.810126666667",
         "1.0"
        ],
        [
         "35",
         "2017-01-02 11:00:00",
         "28224.810126666667",
         "1.0"
        ],
        [
         "36",
         "2017-01-02 12:00:00",
         "29581.772151666664",
         "1.0"
        ],
        [
         "37",
         "2017-01-02 13:00:00",
         "29485.56962",
         "1.0"
        ],
        [
         "38",
         "2017-01-02 14:00:00",
         "28611.645569999997",
         "1.0"
        ],
        [
         "39",
         "2017-01-02 15:00:00",
         "28971.13924",
         "1.0"
        ],
        [
         "40",
         "2017-01-02 16:00:00",
         "29996.962026666664",
         "1.0"
        ],
        [
         "41",
         "2017-01-02 17:00:00",
         "37022.784811666665",
         "1.0"
        ],
        [
         "42",
         "2017-01-02 18:00:00",
         "41747.8481",
         "1.0"
        ],
        [
         "43",
         "2017-01-02 19:00:00",
         "41498.73417833333",
         "1.0"
        ],
        [
         "44",
         "2017-01-02 20:00:00",
         "41096.708861666666",
         "1.0"
        ],
        [
         "45",
         "2017-01-02 21:00:00",
         "39461.265823333335",
         "1.0"
        ],
        [
         "46",
         "2017-01-02 22:00:00",
         "35830.886074999995",
         "1.0"
        ],
        [
         "47",
         "2017-01-02 23:00:00",
         "30112.405063333335",
         "1.0"
        ],
        [
         "48",
         "2017-01-03 00:00:00",
         "25269.87341666667",
         "1.0"
        ],
        [
         "49",
         "2017-01-03 01:00:00",
         "22636.962025",
         "1.0"
        ]
       ],
       "shape": {
        "columns": 3,
        "rows": 8736
       }
      },
      "text/html": [
       "<div>\n",
       "<style scoped>\n",
       "    .dataframe tbody tr th:only-of-type {\n",
       "        vertical-align: middle;\n",
       "    }\n",
       "\n",
       "    .dataframe tbody tr th {\n",
       "        vertical-align: top;\n",
       "    }\n",
       "\n",
       "    .dataframe thead th {\n",
       "        text-align: right;\n",
       "    }\n",
       "</style>\n",
       "<table border=\"1\" class=\"dataframe\">\n",
       "  <thead>\n",
       "    <tr style=\"text-align: right;\">\n",
       "      <th></th>\n",
       "      <th>ds</th>\n",
       "      <th>y</th>\n",
       "      <th>unique_id</th>\n",
       "    </tr>\n",
       "  </thead>\n",
       "  <tbody>\n",
       "    <tr>\n",
       "      <th>0</th>\n",
       "      <td>2017-01-01 00:00:00</td>\n",
       "      <td>29197.974683</td>\n",
       "      <td>1.0</td>\n",
       "    </tr>\n",
       "    <tr>\n",
       "      <th>1</th>\n",
       "      <td>2017-01-01 01:00:00</td>\n",
       "      <td>24657.215190</td>\n",
       "      <td>1.0</td>\n",
       "    </tr>\n",
       "    <tr>\n",
       "      <th>2</th>\n",
       "      <td>2017-01-01 02:00:00</td>\n",
       "      <td>22083.037973</td>\n",
       "      <td>1.0</td>\n",
       "    </tr>\n",
       "    <tr>\n",
       "      <th>3</th>\n",
       "      <td>2017-01-01 03:00:00</td>\n",
       "      <td>20811.139240</td>\n",
       "      <td>1.0</td>\n",
       "    </tr>\n",
       "    <tr>\n",
       "      <th>4</th>\n",
       "      <td>2017-01-01 04:00:00</td>\n",
       "      <td>20475.949367</td>\n",
       "      <td>1.0</td>\n",
       "    </tr>\n",
       "    <tr>\n",
       "      <th>...</th>\n",
       "      <td>...</td>\n",
       "      <td>...</td>\n",
       "      <td>...</td>\n",
       "    </tr>\n",
       "    <tr>\n",
       "      <th>8731</th>\n",
       "      <td>2017-12-30 19:00:00</td>\n",
       "      <td>37513.814957</td>\n",
       "      <td>1.0</td>\n",
       "    </tr>\n",
       "    <tr>\n",
       "      <th>8732</th>\n",
       "      <td>2017-12-30 20:00:00</td>\n",
       "      <td>37008.871988</td>\n",
       "      <td>1.0</td>\n",
       "    </tr>\n",
       "    <tr>\n",
       "      <th>8733</th>\n",
       "      <td>2017-12-30 21:00:00</td>\n",
       "      <td>35358.174905</td>\n",
       "      <td>1.0</td>\n",
       "    </tr>\n",
       "    <tr>\n",
       "      <th>8734</th>\n",
       "      <td>2017-12-30 22:00:00</td>\n",
       "      <td>33993.409380</td>\n",
       "      <td>1.0</td>\n",
       "    </tr>\n",
       "    <tr>\n",
       "      <th>8735</th>\n",
       "      <td>2017-12-30 23:00:00</td>\n",
       "      <td>30107.984788</td>\n",
       "      <td>1.0</td>\n",
       "    </tr>\n",
       "  </tbody>\n",
       "</table>\n",
       "<p>8736 rows × 3 columns</p>\n",
       "</div>"
      ],
      "text/plain": [
       "                      ds             y  unique_id\n",
       "0    2017-01-01 00:00:00  29197.974683        1.0\n",
       "1    2017-01-01 01:00:00  24657.215190        1.0\n",
       "2    2017-01-01 02:00:00  22083.037973        1.0\n",
       "3    2017-01-01 03:00:00  20811.139240        1.0\n",
       "4    2017-01-01 04:00:00  20475.949367        1.0\n",
       "...                  ...           ...        ...\n",
       "8731 2017-12-30 19:00:00  37513.814957        1.0\n",
       "8732 2017-12-30 20:00:00  37008.871988        1.0\n",
       "8733 2017-12-30 21:00:00  35358.174905        1.0\n",
       "8734 2017-12-30 22:00:00  33993.409380        1.0\n",
       "8735 2017-12-30 23:00:00  30107.984788        1.0\n",
       "\n",
       "[8736 rows x 3 columns]"
      ]
     },
     "execution_count": 3,
     "metadata": {},
     "output_type": "execute_result"
    }
   ],
   "source": [
    "df"
   ]
  },
  {
   "cell_type": "code",
   "execution_count": 5,
   "id": "ad7a0aa1",
   "metadata": {},
   "outputs": [],
   "source": [
    "from pmdarima.model_selection import train_test_split\n",
    "\n",
    "day_length = 24\n",
    "\n",
    "#day_num = 60\n",
    "day_num = 120\n",
    "test_days = 7\n",
    "train_days = day_num - test_days\n",
    "\n",
    "X = df[:day_length * day_num]\n",
    "\n",
    "X_train, X_test = train_test_split(\n",
    "    X,\n",
    "    train_size=train_days * day_length\n",
    ")"
   ]
  },
  {
   "cell_type": "code",
   "execution_count": 61,
   "id": "6c9fa99d",
   "metadata": {},
   "outputs": [
    {
     "name": "stderr",
     "output_type": "stream",
     "text": [
      "Seed set to 1\n",
      "Seed set to 1\n",
      "Seed set to 1\n",
      "Seed set to 1\n",
      "Seed set to 1\n",
      "Seed set to 1\n",
      "Seed set to 1\n",
      "GPU available: False, used: False\n",
      "TPU available: False, using: 0 TPU cores\n",
      "HPU available: False, using: 0 HPUs\n",
      "\n",
      "  | Name         | Type          | Params | Mode \n",
      "-------------------------------------------------------\n",
      "0 | loss         | MAE           | 0      | train\n",
      "1 | padder_train | ConstantPad1d | 0      | train\n",
      "2 | scaler       | TemporalNorm  | 0      | train\n",
      "3 | hist_encoder | GRU           | 37.8 K | train\n",
      "4 | mlp_decoder  | MLP           | 4.2 K  | train\n",
      "-------------------------------------------------------\n",
      "42.0 K    Trainable params\n",
      "0         Non-trainable params\n",
      "42.0 K    Total params\n",
      "0.168     Total estimated model params size (MB)\n",
      "10        Modules in train mode\n",
      "0         Modules in eval mode\n"
     ]
    },
    {
     "data": {
      "application/vnd.jupyter.widget-view+json": {
       "model_id": "87336822408b4b5c9ff5421348f6e802",
       "version_major": 2,
       "version_minor": 0
      },
      "text/plain": [
       "Sanity Checking: |          | 0/? [00:00<?, ?it/s]"
      ]
     },
     "metadata": {},
     "output_type": "display_data"
    },
    {
     "data": {
      "application/vnd.jupyter.widget-view+json": {
       "model_id": "4c7264756dc543509422f78fdfe750dc",
       "version_major": 2,
       "version_minor": 0
      },
      "text/plain": [
       "Training: |          | 0/? [00:00<?, ?it/s]"
      ]
     },
     "metadata": {},
     "output_type": "display_data"
    },
    {
     "data": {
      "application/vnd.jupyter.widget-view+json": {
       "model_id": "2937eef33cbe452c824ff0b45e79cf74",
       "version_major": 2,
       "version_minor": 0
      },
      "text/plain": [
       "Validation: |          | 0/? [00:00<?, ?it/s]"
      ]
     },
     "metadata": {},
     "output_type": "display_data"
    },
    {
     "data": {
      "application/vnd.jupyter.widget-view+json": {
       "model_id": "efc668a53bcb49948823844f174155dc",
       "version_major": 2,
       "version_minor": 0
      },
      "text/plain": [
       "Validation: |          | 0/? [00:00<?, ?it/s]"
      ]
     },
     "metadata": {},
     "output_type": "display_data"
    },
    {
     "data": {
      "application/vnd.jupyter.widget-view+json": {
       "model_id": "fddfcadaadad47feaa2edd46bd4d0ee8",
       "version_major": 2,
       "version_minor": 0
      },
      "text/plain": [
       "Validation: |          | 0/? [00:00<?, ?it/s]"
      ]
     },
     "metadata": {},
     "output_type": "display_data"
    },
    {
     "data": {
      "application/vnd.jupyter.widget-view+json": {
       "model_id": "8fb0ad8c28c446618065493e9ff4731e",
       "version_major": 2,
       "version_minor": 0
      },
      "text/plain": [
       "Validation: |          | 0/? [00:00<?, ?it/s]"
      ]
     },
     "metadata": {},
     "output_type": "display_data"
    },
    {
     "data": {
      "application/vnd.jupyter.widget-view+json": {
       "model_id": "edd44488bcd148e5b8954012deb3610f",
       "version_major": 2,
       "version_minor": 0
      },
      "text/plain": [
       "Validation: |          | 0/? [00:00<?, ?it/s]"
      ]
     },
     "metadata": {},
     "output_type": "display_data"
    },
    {
     "name": "stderr",
     "output_type": "stream",
     "text": [
      "`Trainer.fit` stopped: `max_steps=500` reached.\n",
      "GPU available: False, used: False\n",
      "TPU available: False, using: 0 TPU cores\n",
      "HPU available: False, using: 0 HPUs\n",
      "\n",
      "  | Name         | Type          | Params | Mode \n",
      "-------------------------------------------------------\n",
      "0 | loss         | MAE           | 0      | train\n",
      "1 | padder_train | ConstantPad1d | 0      | train\n",
      "2 | scaler       | TemporalNorm  | 0      | train\n",
      "3 | blocks       | ModuleList    | 2.5 M  | train\n",
      "-------------------------------------------------------\n",
      "2.5 M     Trainable params\n",
      "3.5 K     Non-trainable params\n",
      "2.5 M     Total params\n",
      "10.120    Total estimated model params size (MB)\n",
      "31        Modules in train mode\n",
      "0         Modules in eval mode\n"
     ]
    },
    {
     "data": {
      "application/vnd.jupyter.widget-view+json": {
       "model_id": "99c0b6dee99d44ceb9f5a48ff57c0338",
       "version_major": 2,
       "version_minor": 0
      },
      "text/plain": [
       "Sanity Checking: |          | 0/? [00:00<?, ?it/s]"
      ]
     },
     "metadata": {},
     "output_type": "display_data"
    },
    {
     "data": {
      "application/vnd.jupyter.widget-view+json": {
       "model_id": "55ef61045f964230a0651ef81577ed8a",
       "version_major": 2,
       "version_minor": 0
      },
      "text/plain": [
       "Training: |          | 0/? [00:00<?, ?it/s]"
      ]
     },
     "metadata": {},
     "output_type": "display_data"
    },
    {
     "data": {
      "application/vnd.jupyter.widget-view+json": {
       "model_id": "72e8449145514690a6747ea8f4f7da71",
       "version_major": 2,
       "version_minor": 0
      },
      "text/plain": [
       "Validation: |          | 0/? [00:00<?, ?it/s]"
      ]
     },
     "metadata": {},
     "output_type": "display_data"
    },
    {
     "data": {
      "application/vnd.jupyter.widget-view+json": {
       "model_id": "7bb29ec83d464504b0f467e044b368f1",
       "version_major": 2,
       "version_minor": 0
      },
      "text/plain": [
       "Validation: |          | 0/? [00:00<?, ?it/s]"
      ]
     },
     "metadata": {},
     "output_type": "display_data"
    },
    {
     "data": {
      "application/vnd.jupyter.widget-view+json": {
       "model_id": "fb1b0999a5904f10a721183061141de8",
       "version_major": 2,
       "version_minor": 0
      },
      "text/plain": [
       "Validation: |          | 0/? [00:00<?, ?it/s]"
      ]
     },
     "metadata": {},
     "output_type": "display_data"
    },
    {
     "data": {
      "application/vnd.jupyter.widget-view+json": {
       "model_id": "895130ae38204e76af485714f5788353",
       "version_major": 2,
       "version_minor": 0
      },
      "text/plain": [
       "Validation: |          | 0/? [00:00<?, ?it/s]"
      ]
     },
     "metadata": {},
     "output_type": "display_data"
    },
    {
     "data": {
      "application/vnd.jupyter.widget-view+json": {
       "model_id": "4b29244f080d4746842c9bbfc6b86827",
       "version_major": 2,
       "version_minor": 0
      },
      "text/plain": [
       "Validation: |          | 0/? [00:00<?, ?it/s]"
      ]
     },
     "metadata": {},
     "output_type": "display_data"
    },
    {
     "name": "stderr",
     "output_type": "stream",
     "text": [
      "`Trainer.fit` stopped: `max_steps=500` reached.\n",
      "GPU available: False, used: False\n",
      "TPU available: False, using: 0 TPU cores\n",
      "HPU available: False, using: 0 HPUs\n",
      "\n",
      "  | Name         | Type          | Params | Mode \n",
      "-------------------------------------------------------\n",
      "0 | loss         | MAE           | 0      | train\n",
      "1 | padder_train | ConstantPad1d | 0      | train\n",
      "2 | scaler       | TemporalNorm  | 0      | train\n",
      "3 | blocks       | ModuleList    | 2.5 M  | train\n",
      "-------------------------------------------------------\n",
      "2.5 M     Trainable params\n",
      "0         Non-trainable params\n",
      "2.5 M     Total params\n",
      "10.040    Total estimated model params size (MB)\n",
      "34        Modules in train mode\n",
      "0         Modules in eval mode\n"
     ]
    },
    {
     "data": {
      "application/vnd.jupyter.widget-view+json": {
       "model_id": "bc4f83ccd06442b5bbb3660f35178368",
       "version_major": 2,
       "version_minor": 0
      },
      "text/plain": [
       "Sanity Checking: |          | 0/? [00:00<?, ?it/s]"
      ]
     },
     "metadata": {},
     "output_type": "display_data"
    },
    {
     "data": {
      "application/vnd.jupyter.widget-view+json": {
       "model_id": "76a6fc29aa6c4f5fa1289a0f0fdfb1c3",
       "version_major": 2,
       "version_minor": 0
      },
      "text/plain": [
       "Training: |          | 0/? [00:00<?, ?it/s]"
      ]
     },
     "metadata": {},
     "output_type": "display_data"
    },
    {
     "data": {
      "application/vnd.jupyter.widget-view+json": {
       "model_id": "ce2b303ebf9f410cb63d324119e9f4c5",
       "version_major": 2,
       "version_minor": 0
      },
      "text/plain": [
       "Validation: |          | 0/? [00:00<?, ?it/s]"
      ]
     },
     "metadata": {},
     "output_type": "display_data"
    },
    {
     "data": {
      "application/vnd.jupyter.widget-view+json": {
       "model_id": "4fa67f48e1c947c2adfebc20cc16a27e",
       "version_major": 2,
       "version_minor": 0
      },
      "text/plain": [
       "Validation: |          | 0/? [00:00<?, ?it/s]"
      ]
     },
     "metadata": {},
     "output_type": "display_data"
    },
    {
     "data": {
      "application/vnd.jupyter.widget-view+json": {
       "model_id": "c8e9359d5cda4fef86f85c2f11d0d7bf",
       "version_major": 2,
       "version_minor": 0
      },
      "text/plain": [
       "Validation: |          | 0/? [00:00<?, ?it/s]"
      ]
     },
     "metadata": {},
     "output_type": "display_data"
    },
    {
     "data": {
      "application/vnd.jupyter.widget-view+json": {
       "model_id": "624911e95f584066aed44625cdf792c3",
       "version_major": 2,
       "version_minor": 0
      },
      "text/plain": [
       "Validation: |          | 0/? [00:00<?, ?it/s]"
      ]
     },
     "metadata": {},
     "output_type": "display_data"
    },
    {
     "data": {
      "application/vnd.jupyter.widget-view+json": {
       "model_id": "05ff7ca8f4df4cb09ffafc4b62bcbef2",
       "version_major": 2,
       "version_minor": 0
      },
      "text/plain": [
       "Validation: |          | 0/? [00:00<?, ?it/s]"
      ]
     },
     "metadata": {},
     "output_type": "display_data"
    },
    {
     "name": "stderr",
     "output_type": "stream",
     "text": [
      "`Trainer.fit` stopped: `max_steps=500` reached.\n",
      "GPU available: False, used: False\n",
      "TPU available: False, using: 0 TPU cores\n",
      "HPU available: False, using: 0 HPUs\n",
      "\n",
      "  | Name             | Type          | Params | Mode \n",
      "-----------------------------------------------------------\n",
      "0 | loss             | MAE           | 0      | train\n",
      "1 | padder_train     | ConstantPad1d | 0      | train\n",
      "2 | scaler           | TemporalNorm  | 0      | train\n",
      "3 | dense_encoder    | Sequential    | 313 K  | train\n",
      "4 | dense_decoder    | Sequential    | 1.1 M  | train\n",
      "5 | temporal_decoder | MLPResidual   | 4.4 K  | train\n",
      "6 | global_skip      | Linear        | 1.2 K  | train\n",
      "-----------------------------------------------------------\n",
      "1.4 M     Trainable params\n",
      "0         Non-trainable params\n",
      "1.4 M     Total params\n",
      "5.486     Total estimated model params size (MB)\n",
      "24        Modules in train mode\n",
      "0         Modules in eval mode\n"
     ]
    },
    {
     "data": {
      "application/vnd.jupyter.widget-view+json": {
       "model_id": "4945fe6f520e4ddf8630599a0f7ed11d",
       "version_major": 2,
       "version_minor": 0
      },
      "text/plain": [
       "Sanity Checking: |          | 0/? [00:00<?, ?it/s]"
      ]
     },
     "metadata": {},
     "output_type": "display_data"
    },
    {
     "data": {
      "application/vnd.jupyter.widget-view+json": {
       "model_id": "d53802fa5bbc4581b714579ed00ba037",
       "version_major": 2,
       "version_minor": 0
      },
      "text/plain": [
       "Training: |          | 0/? [00:00<?, ?it/s]"
      ]
     },
     "metadata": {},
     "output_type": "display_data"
    },
    {
     "data": {
      "application/vnd.jupyter.widget-view+json": {
       "model_id": "4b6bbf7cc0ef40a0a619bb2cc3e2eb3e",
       "version_major": 2,
       "version_minor": 0
      },
      "text/plain": [
       "Validation: |          | 0/? [00:00<?, ?it/s]"
      ]
     },
     "metadata": {},
     "output_type": "display_data"
    },
    {
     "data": {
      "application/vnd.jupyter.widget-view+json": {
       "model_id": "a78623f80ab54eef89724a49e1c914a1",
       "version_major": 2,
       "version_minor": 0
      },
      "text/plain": [
       "Validation: |          | 0/? [00:00<?, ?it/s]"
      ]
     },
     "metadata": {},
     "output_type": "display_data"
    },
    {
     "data": {
      "application/vnd.jupyter.widget-view+json": {
       "model_id": "0c9bea8ab04647eabdf2b0425f25ce93",
       "version_major": 2,
       "version_minor": 0
      },
      "text/plain": [
       "Validation: |          | 0/? [00:00<?, ?it/s]"
      ]
     },
     "metadata": {},
     "output_type": "display_data"
    },
    {
     "data": {
      "application/vnd.jupyter.widget-view+json": {
       "model_id": "557808e145fc4c45981c5a90a51816ca",
       "version_major": 2,
       "version_minor": 0
      },
      "text/plain": [
       "Validation: |          | 0/? [00:00<?, ?it/s]"
      ]
     },
     "metadata": {},
     "output_type": "display_data"
    },
    {
     "data": {
      "application/vnd.jupyter.widget-view+json": {
       "model_id": "c5321384cc8646b8b7ea52a6a0aa34b6",
       "version_major": 2,
       "version_minor": 0
      },
      "text/plain": [
       "Validation: |          | 0/? [00:00<?, ?it/s]"
      ]
     },
     "metadata": {},
     "output_type": "display_data"
    },
    {
     "name": "stderr",
     "output_type": "stream",
     "text": [
      "`Trainer.fit` stopped: `max_steps=500` reached.\n",
      "/Library/Frameworks/Python.framework/Versions/3.12/lib/python3.12/site-packages/neuralforecast/common/_base_model.py:537: UserWarning: val_check_steps is greater than max_steps, setting val_check_steps to max_steps.\n",
      "  warnings.warn(\n",
      "GPU available: False, used: False\n",
      "TPU available: False, using: 0 TPU cores\n",
      "HPU available: False, using: 0 HPUs\n",
      "\n",
      "  | Name          | Type          | Params | Mode \n",
      "--------------------------------------------------------\n",
      "0 | loss          | MAE           | 0      | train\n",
      "1 | padder_train  | ConstantPad1d | 0      | train\n",
      "2 | scaler        | TemporalNorm  | 0      | train\n",
      "3 | enc_embedding | DataEmbedding | 768    | train\n",
      "4 | dec_embedding | DataEmbedding | 768    | train\n",
      "5 | encoder       | TransEncoder  | 759 K  | train\n",
      "6 | decoder       | TransDecoder  | 545 K  | train\n",
      "--------------------------------------------------------\n",
      "1.3 M     Trainable params\n",
      "0         Non-trainable params\n",
      "1.3 M     Total params\n",
      "5.226     Total estimated model params size (MB)\n",
      "73        Modules in train mode\n",
      "0         Modules in eval mode\n"
     ]
    },
    {
     "data": {
      "application/vnd.jupyter.widget-view+json": {
       "model_id": "1529f0d5a35543018c7083c09ca5ebaa",
       "version_major": 2,
       "version_minor": 0
      },
      "text/plain": [
       "Sanity Checking: |          | 0/? [00:00<?, ?it/s]"
      ]
     },
     "metadata": {},
     "output_type": "display_data"
    },
    {
     "data": {
      "application/vnd.jupyter.widget-view+json": {
       "model_id": "0215c30fab334b89878166fd975a8f06",
       "version_major": 2,
       "version_minor": 0
      },
      "text/plain": [
       "Training: |          | 0/? [00:00<?, ?it/s]"
      ]
     },
     "metadata": {},
     "output_type": "display_data"
    },
    {
     "data": {
      "application/vnd.jupyter.widget-view+json": {
       "model_id": "c40c68d0f17249cf9fb005515190e063",
       "version_major": 2,
       "version_minor": 0
      },
      "text/plain": [
       "Validation: |          | 0/? [00:00<?, ?it/s]"
      ]
     },
     "metadata": {},
     "output_type": "display_data"
    },
    {
     "name": "stderr",
     "output_type": "stream",
     "text": [
      "`Trainer.fit` stopped: `max_steps=50` reached.\n",
      "GPU available: False, used: False\n",
      "TPU available: False, using: 0 TPU cores\n",
      "HPU available: False, using: 0 HPUs\n",
      "\n",
      "  | Name          | Type          | Params | Mode \n",
      "--------------------------------------------------------\n",
      "0 | loss          | MAE           | 0      | train\n",
      "1 | padder_train  | ConstantPad1d | 0      | train\n",
      "2 | scaler        | TemporalNorm  | 0      | train\n",
      "3 | lin_hist      | Linear        | 32     | train\n",
      "4 | drop_hist     | Dropout       | 0      | train\n",
      "5 | net_bwd       | Sequential    | 6.4 K  | train\n",
      "6 | drop_temporal | Dropout       | 0      | train\n",
      "7 | temporal_lin1 | Linear        | 784    | train\n",
      "8 | temporal_lin2 | Linear        | 408    | train\n",
      "9 | output_lin    | Linear        | 17     | train\n",
      "--------------------------------------------------------\n",
      "7.7 K     Trainable params\n",
      "0         Non-trainable params\n",
      "7.7 K     Total params\n",
      "0.031     Total estimated model params size (MB)\n",
      "34        Modules in train mode\n",
      "0         Modules in eval mode\n"
     ]
    },
    {
     "data": {
      "application/vnd.jupyter.widget-view+json": {
       "model_id": "5dbabc4d69664f718c8df768f75cdcdb",
       "version_major": 2,
       "version_minor": 0
      },
      "text/plain": [
       "Sanity Checking: |          | 0/? [00:00<?, ?it/s]"
      ]
     },
     "metadata": {},
     "output_type": "display_data"
    },
    {
     "data": {
      "application/vnd.jupyter.widget-view+json": {
       "model_id": "9eab61bef5014f96824fb1d48d52c3a6",
       "version_major": 2,
       "version_minor": 0
      },
      "text/plain": [
       "Training: |          | 0/? [00:00<?, ?it/s]"
      ]
     },
     "metadata": {},
     "output_type": "display_data"
    },
    {
     "data": {
      "application/vnd.jupyter.widget-view+json": {
       "model_id": "a8bdc8f437404e32b76a113085ce92f8",
       "version_major": 2,
       "version_minor": 0
      },
      "text/plain": [
       "Validation: |          | 0/? [00:00<?, ?it/s]"
      ]
     },
     "metadata": {},
     "output_type": "display_data"
    },
    {
     "data": {
      "application/vnd.jupyter.widget-view+json": {
       "model_id": "15a28c0590974eaa81a4e2e39d0ca6c2",
       "version_major": 2,
       "version_minor": 0
      },
      "text/plain": [
       "Validation: |          | 0/? [00:00<?, ?it/s]"
      ]
     },
     "metadata": {},
     "output_type": "display_data"
    },
    {
     "data": {
      "application/vnd.jupyter.widget-view+json": {
       "model_id": "d09a9e09e4e34c2b80f11a676018e325",
       "version_major": 2,
       "version_minor": 0
      },
      "text/plain": [
       "Validation: |          | 0/? [00:00<?, ?it/s]"
      ]
     },
     "metadata": {},
     "output_type": "display_data"
    },
    {
     "data": {
      "application/vnd.jupyter.widget-view+json": {
       "model_id": "d5d70117d7474e4ea04ab82ac0584308",
       "version_major": 2,
       "version_minor": 0
      },
      "text/plain": [
       "Validation: |          | 0/? [00:00<?, ?it/s]"
      ]
     },
     "metadata": {},
     "output_type": "display_data"
    },
    {
     "data": {
      "application/vnd.jupyter.widget-view+json": {
       "model_id": "6b46d22d65444164b3b46cab686276f7",
       "version_major": 2,
       "version_minor": 0
      },
      "text/plain": [
       "Validation: |          | 0/? [00:00<?, ?it/s]"
      ]
     },
     "metadata": {},
     "output_type": "display_data"
    },
    {
     "name": "stderr",
     "output_type": "stream",
     "text": [
      "`Trainer.fit` stopped: `max_steps=500` reached.\n",
      "GPU available: False, used: False\n",
      "TPU available: False, using: 0 TPU cores\n",
      "HPU available: False, using: 0 HPUs\n",
      "\n",
      "  | Name                    | Type                     | Params | Mode \n",
      "-----------------------------------------------------------------------------\n",
      "0 | loss                    | MAE                      | 0      | train\n",
      "1 | padder_train            | ConstantPad1d            | 0      | train\n",
      "2 | scaler                  | TemporalNorm             | 0      | train\n",
      "3 | embedding               | TFTEmbedding             | 512    | train\n",
      "4 | temporal_encoder        | TemporalCovariateEncoder | 613 K  | train\n",
      "5 | temporal_fusion_decoder | TemporalFusionDecoder    | 256 K  | train\n",
      "6 | output_adapter          | Linear                   | 129    | train\n",
      "-----------------------------------------------------------------------------\n",
      "870 K     Trainable params\n",
      "0         Non-trainable params\n",
      "870 K     Total params\n",
      "3.481     Total estimated model params size (MB)\n",
      "88        Modules in train mode\n",
      "0         Modules in eval mode\n"
     ]
    },
    {
     "data": {
      "application/vnd.jupyter.widget-view+json": {
       "model_id": "c483797ae72547ec89d29fc2555b234e",
       "version_major": 2,
       "version_minor": 0
      },
      "text/plain": [
       "Sanity Checking: |          | 0/? [00:00<?, ?it/s]"
      ]
     },
     "metadata": {},
     "output_type": "display_data"
    },
    {
     "data": {
      "application/vnd.jupyter.widget-view+json": {
       "model_id": "8e39e41ed9d3455e9a33c1b175be2a14",
       "version_major": 2,
       "version_minor": 0
      },
      "text/plain": [
       "Training: |          | 0/? [00:00<?, ?it/s]"
      ]
     },
     "metadata": {},
     "output_type": "display_data"
    },
    {
     "data": {
      "application/vnd.jupyter.widget-view+json": {
       "model_id": "ac5faae938fb4c1cbcbc3ba621f1d95d",
       "version_major": 2,
       "version_minor": 0
      },
      "text/plain": [
       "Validation: |          | 0/? [00:00<?, ?it/s]"
      ]
     },
     "metadata": {},
     "output_type": "display_data"
    },
    {
     "name": "stderr",
     "output_type": "stream",
     "text": [
      "`Trainer.fit` stopped: `max_steps=50` reached.\n",
      "GPU available: False, used: False\n",
      "TPU available: False, using: 0 TPU cores\n",
      "HPU available: False, using: 0 HPUs\n"
     ]
    },
    {
     "data": {
      "application/vnd.jupyter.widget-view+json": {
       "model_id": "e2224ad2437b49348520037c9a97668f",
       "version_major": 2,
       "version_minor": 0
      },
      "text/plain": [
       "Predicting: |          | 0/? [00:00<?, ?it/s]"
      ]
     },
     "metadata": {},
     "output_type": "display_data"
    },
    {
     "name": "stderr",
     "output_type": "stream",
     "text": [
      "GPU available: False, used: False\n",
      "TPU available: False, using: 0 TPU cores\n",
      "HPU available: False, using: 0 HPUs\n"
     ]
    },
    {
     "data": {
      "application/vnd.jupyter.widget-view+json": {
       "model_id": "722182739396485385efc87480043ae3",
       "version_major": 2,
       "version_minor": 0
      },
      "text/plain": [
       "Predicting: |          | 0/? [00:00<?, ?it/s]"
      ]
     },
     "metadata": {},
     "output_type": "display_data"
    },
    {
     "name": "stderr",
     "output_type": "stream",
     "text": [
      "GPU available: False, used: False\n",
      "TPU available: False, using: 0 TPU cores\n",
      "HPU available: False, using: 0 HPUs\n"
     ]
    },
    {
     "data": {
      "application/vnd.jupyter.widget-view+json": {
       "model_id": "2fe2c46312e442bfaca621abfd64e1ab",
       "version_major": 2,
       "version_minor": 0
      },
      "text/plain": [
       "Predicting: |          | 0/? [00:00<?, ?it/s]"
      ]
     },
     "metadata": {},
     "output_type": "display_data"
    },
    {
     "name": "stderr",
     "output_type": "stream",
     "text": [
      "GPU available: False, used: False\n",
      "TPU available: False, using: 0 TPU cores\n",
      "HPU available: False, using: 0 HPUs\n"
     ]
    },
    {
     "data": {
      "application/vnd.jupyter.widget-view+json": {
       "model_id": "7fdd1d5162134fb8880b977acaf51ea6",
       "version_major": 2,
       "version_minor": 0
      },
      "text/plain": [
       "Predicting: |          | 0/? [00:00<?, ?it/s]"
      ]
     },
     "metadata": {},
     "output_type": "display_data"
    },
    {
     "name": "stderr",
     "output_type": "stream",
     "text": [
      "GPU available: False, used: False\n",
      "TPU available: False, using: 0 TPU cores\n",
      "HPU available: False, using: 0 HPUs\n"
     ]
    },
    {
     "data": {
      "application/vnd.jupyter.widget-view+json": {
       "model_id": "c235480a54ac403f8216ff9cca17ef5b",
       "version_major": 2,
       "version_minor": 0
      },
      "text/plain": [
       "Predicting: |          | 0/? [00:00<?, ?it/s]"
      ]
     },
     "metadata": {},
     "output_type": "display_data"
    },
    {
     "name": "stderr",
     "output_type": "stream",
     "text": [
      "GPU available: False, used: False\n",
      "TPU available: False, using: 0 TPU cores\n",
      "HPU available: False, using: 0 HPUs\n"
     ]
    },
    {
     "data": {
      "application/vnd.jupyter.widget-view+json": {
       "model_id": "7407b8aa14df438eb2323b2fe1cf7948",
       "version_major": 2,
       "version_minor": 0
      },
      "text/plain": [
       "Predicting: |          | 0/? [00:00<?, ?it/s]"
      ]
     },
     "metadata": {},
     "output_type": "display_data"
    },
    {
     "name": "stderr",
     "output_type": "stream",
     "text": [
      "GPU available: False, used: False\n",
      "TPU available: False, using: 0 TPU cores\n",
      "HPU available: False, using: 0 HPUs\n"
     ]
    },
    {
     "data": {
      "application/vnd.jupyter.widget-view+json": {
       "model_id": "c3254d55b2784abaafcbe25559dfd094",
       "version_major": 2,
       "version_minor": 0
      },
      "text/plain": [
       "Predicting: |          | 0/? [00:00<?, ?it/s]"
      ]
     },
     "metadata": {},
     "output_type": "display_data"
    }
   ],
   "source": [
    "from neuralforecast import NeuralForecast\n",
    "from neuralforecast.models import GRU, NHITS, TiDE, TFT, Informer, BiTCN, NBEATS\n",
    "\n",
    "horizon = 24\n",
    "\n",
    "models = [\n",
    "                  GRU(\n",
    "            h=horizon,\n",
    "            input_size=2 * horizon,\n",
    "            scaler_type='standard',\n",
    "            encoder_hidden_size=64,\n",
    "            decoder_hidden_size=64,\n",
    "            max_steps=500),\n",
    "                  NBEATS(\n",
    "            h=horizon, \n",
    "            input_size=2 * horizon,\n",
    "            max_steps=500),\n",
    "                  NHITS(\n",
    "            h=horizon,\n",
    "            input_size=2 * horizon,\n",
    "            max_steps=500),\n",
    "                  TiDE(\n",
    "            h=horizon,\n",
    "            input_size=2 * horizon,\n",
    "            max_steps=500),\n",
    "                  Informer(\n",
    "            h=horizon,\n",
    "            input_size=2 * horizon,\n",
    "            max_steps=50,\n",
    "            hidden_size = 256,\n",
    "            conv_hidden_size = 32,\n",
    "            scaler_type='robust'),\n",
    "                  BiTCN(\n",
    "            h=horizon,\n",
    "            input_size=2 * horizon,\n",
    "            max_steps=500,\n",
    "            scaler_type='standard'),\n",
    "                  TFT(\n",
    "            h=horizon,\n",
    "            input_size=2 * horizon,\n",
    "            max_steps=50)\n",
    "          ]\n",
    "nf = NeuralForecast(models=models, freq='ME')\n",
    "nf.fit(df=X_train)\n",
    "yy_hat_dict = nf.predict()"
   ]
  },
  {
   "cell_type": "code",
   "execution_count": 7,
   "id": "fe16fb73",
   "metadata": {},
   "outputs": [
    {
     "name": "stderr",
     "output_type": "stream",
     "text": [
      "GPU available: False, used: False\n",
      "TPU available: False, using: 0 TPU cores\n",
      "HPU available: False, using: 0 HPUs\n"
     ]
    },
    {
     "data": {
      "application/vnd.jupyter.widget-view+json": {
       "model_id": "3f4a18dad5a64859b3dd3cbaf0838c6e",
       "version_major": 2,
       "version_minor": 0
      },
      "text/plain": [
       "Predicting: |          | 0/? [00:00<?, ?it/s]"
      ]
     },
     "metadata": {},
     "output_type": "display_data"
    },
    {
     "name": "stderr",
     "output_type": "stream",
     "text": [
      "GPU available: False, used: False\n",
      "TPU available: False, using: 0 TPU cores\n",
      "HPU available: False, using: 0 HPUs\n"
     ]
    },
    {
     "data": {
      "application/vnd.jupyter.widget-view+json": {
       "model_id": "9efc87157a5a4ac2a2dbf0dd0982d01a",
       "version_major": 2,
       "version_minor": 0
      },
      "text/plain": [
       "Predicting: |          | 0/? [00:00<?, ?it/s]"
      ]
     },
     "metadata": {},
     "output_type": "display_data"
    },
    {
     "name": "stderr",
     "output_type": "stream",
     "text": [
      "GPU available: False, used: False\n",
      "TPU available: False, using: 0 TPU cores\n",
      "HPU available: False, using: 0 HPUs\n"
     ]
    },
    {
     "data": {
      "application/vnd.jupyter.widget-view+json": {
       "model_id": "eaf474723988450984a4039f4de04b41",
       "version_major": 2,
       "version_minor": 0
      },
      "text/plain": [
       "Predicting: |          | 0/? [00:00<?, ?it/s]"
      ]
     },
     "metadata": {},
     "output_type": "display_data"
    },
    {
     "name": "stderr",
     "output_type": "stream",
     "text": [
      "GPU available: False, used: False\n",
      "TPU available: False, using: 0 TPU cores\n",
      "HPU available: False, using: 0 HPUs\n"
     ]
    },
    {
     "data": {
      "application/vnd.jupyter.widget-view+json": {
       "model_id": "156317cabd4243b5b02270d7ffbc8351",
       "version_major": 2,
       "version_minor": 0
      },
      "text/plain": [
       "Predicting: |          | 0/? [00:00<?, ?it/s]"
      ]
     },
     "metadata": {},
     "output_type": "display_data"
    },
    {
     "name": "stderr",
     "output_type": "stream",
     "text": [
      "GPU available: False, used: False\n",
      "TPU available: False, using: 0 TPU cores\n",
      "HPU available: False, using: 0 HPUs\n"
     ]
    },
    {
     "data": {
      "application/vnd.jupyter.widget-view+json": {
       "model_id": "83c8d24edb164c5ba6c6adb4bedd085e",
       "version_major": 2,
       "version_minor": 0
      },
      "text/plain": [
       "Predicting: |          | 0/? [00:00<?, ?it/s]"
      ]
     },
     "metadata": {},
     "output_type": "display_data"
    },
    {
     "name": "stderr",
     "output_type": "stream",
     "text": [
      "GPU available: False, used: False\n",
      "TPU available: False, using: 0 TPU cores\n",
      "HPU available: False, using: 0 HPUs\n"
     ]
    },
    {
     "data": {
      "application/vnd.jupyter.widget-view+json": {
       "model_id": "fb0aa00411054a2a9dfb8e4872c4e0f1",
       "version_major": 2,
       "version_minor": 0
      },
      "text/plain": [
       "Predicting: |          | 0/? [00:00<?, ?it/s]"
      ]
     },
     "metadata": {},
     "output_type": "display_data"
    }
   ],
   "source": [
    "yy_hat_dict = nf.predict()"
   ]
  },
  {
   "cell_type": "code",
   "execution_count": 62,
   "id": "ba855c3c",
   "metadata": {},
   "outputs": [
    {
     "data": {
      "application/vnd.microsoft.datawrangler.viewer.v0+json": {
       "columns": [
        {
         "name": "index",
         "rawType": "int64",
         "type": "integer"
        },
        {
         "name": "unique_id",
         "rawType": "float64",
         "type": "float"
        },
        {
         "name": "ds",
         "rawType": "datetime64[ns]",
         "type": "datetime"
        },
        {
         "name": "GRU",
         "rawType": "float32",
         "type": "float"
        },
        {
         "name": "NBEATS",
         "rawType": "float32",
         "type": "float"
        },
        {
         "name": "NHITS",
         "rawType": "float32",
         "type": "float"
        },
        {
         "name": "TiDE",
         "rawType": "float32",
         "type": "float"
        },
        {
         "name": "Informer",
         "rawType": "float32",
         "type": "float"
        },
        {
         "name": "BiTCN",
         "rawType": "float32",
         "type": "float"
        },
        {
         "name": "TFT",
         "rawType": "float32",
         "type": "float"
        }
       ],
       "ref": "f92e9caf-6063-44a6-b711-88a060397332",
       "rows": [
        [
         "0",
         "1.0",
         "2017-04-30 23:00:00",
         "27619.14",
         "26552.799",
         "26676.062",
         "27865.156",
         "25869.95",
         "27629.246",
         "27007.354"
        ],
        [
         "1",
         "1.0",
         "2017-05-31 23:00:00",
         "24362.45",
         "24155.342",
         "24037.764",
         "23926.396",
         "24651.494",
         "24586.396",
         "24575.158"
        ],
        [
         "2",
         "1.0",
         "2017-06-30 23:00:00",
         "22561.762",
         "22366.441",
         "22218.332",
         "21983.5",
         "22115.768",
         "23060.938",
         "22802.543"
        ],
        [
         "3",
         "1.0",
         "2017-07-31 23:00:00",
         "21812.838",
         "22132.465",
         "21948.98",
         "21959.07",
         "22902.797",
         "22740.633",
         "22140.844"
        ],
        [
         "4",
         "1.0",
         "2017-08-31 23:00:00",
         "22199.727",
         "22356.082",
         "22202.945",
         "22198.678",
         "20107.61",
         "22592.074",
         "22218.273"
        ],
        [
         "5",
         "1.0",
         "2017-09-30 23:00:00",
         "20311.812",
         "21312.11",
         "21871.852",
         "21745.664",
         "21927.77",
         "22144.617",
         "22704.182"
        ],
        [
         "6",
         "1.0",
         "2017-10-31 23:00:00",
         "19836.086",
         "20601.227",
         "21005.123",
         "20984.023",
         "22597.27",
         "21991.45",
         "23499.816"
        ],
        [
         "7",
         "1.0",
         "2017-11-30 23:00:00",
         "20352.945",
         "21999.732",
         "21680.436",
         "21634.533",
         "22546.172",
         "22734.871",
         "24600.83"
        ],
        [
         "8",
         "1.0",
         "2017-12-31 23:00:00",
         "22509.812",
         "24698.5",
         "24609.111",
         "25214.799",
         "20490.297",
         "24690.043",
         "25967.803"
        ],
        [
         "9",
         "1.0",
         "2018-01-31 23:00:00",
         "25640.33",
         "28240.398",
         "28428.367",
         "28142.08",
         "28198.7",
         "27441.812",
         "27549.64"
        ],
        [
         "10",
         "1.0",
         "2018-02-28 23:00:00",
         "29473.342",
         "31661.518",
         "31620.586",
         "32496.521",
         "30006.707",
         "30925.293",
         "29219.979"
        ],
        [
         "11",
         "1.0",
         "2018-03-31 23:00:00",
         "31792.402",
         "33643.133",
         "33929.098",
         "32571.943",
         "34638.67",
         "33543.977",
         "30623.559"
        ],
        [
         "12",
         "1.0",
         "2018-04-30 23:00:00",
         "33117.164",
         "33638.523",
         "34316.89",
         "34039.297",
         "37196.93",
         "35009.164",
         "31578.578"
        ],
        [
         "13",
         "1.0",
         "2018-05-31 23:00:00",
         "33272.24",
         "33400.25",
         "33911.484",
         "35489.523",
         "36308.508",
         "34047.258",
         "32214.605"
        ],
        [
         "14",
         "1.0",
         "2018-06-30 23:00:00",
         "32674.24",
         "33002.445",
         "33516.04",
         "32099.81",
         "35306.227",
         "32758.03",
         "32705.057"
        ],
        [
         "15",
         "1.0",
         "2018-07-31 23:00:00",
         "32064.695",
         "32374.748",
         "33147.496",
         "32435.512",
         "32928.91",
         "30930.996",
         "33181.54"
        ],
        [
         "16",
         "1.0",
         "2018-08-31 23:00:00",
         "31243.752",
         "31343.193",
         "32120.447",
         "32847.973",
         "37968.406",
         "31115.867",
         "33738.547"
        ],
        [
         "17",
         "1.0",
         "2018-09-30 23:00:00",
         "31297.592",
         "31572.15",
         "31923.348",
         "32629.799",
         "33331.19",
         "32416.105",
         "34415.28"
        ],
        [
         "18",
         "1.0",
         "2018-10-31 23:00:00",
         "33098.08",
         "36103.145",
         "36997.535",
         "36940.8",
         "38451.184",
         "36393.723",
         "35172.87"
        ],
        [
         "19",
         "1.0",
         "2018-11-30 23:00:00",
         "41459.953",
         "41903.3",
         "42263.605",
         "41089.16",
         "38514.51",
         "40257.3",
         "35926.965"
        ],
        [
         "20",
         "1.0",
         "2018-12-31 23:00:00",
         "42511.457",
         "42490.645",
         "42846.67",
         "41874.457",
         "38629.816",
         "41847.67",
         "36615.04"
        ],
        [
         "21",
         "1.0",
         "2019-01-31 23:00:00",
         "41972.9",
         "40331.6",
         "41032.445",
         "40543.96",
         "38889.777",
         "40864.906",
         "37206.184"
        ],
        [
         "22",
         "1.0",
         "2019-02-28 23:00:00",
         "38336.43",
         "36746.387",
         "37335.555",
         "37602.684",
         "39016.04",
         "37419.73",
         "37683.562"
        ],
        [
         "23",
         "1.0",
         "2019-03-31 23:00:00",
         "31818.996",
         "31501.352",
         "31651.426",
         "32275.209",
         "38824.035",
         "32328.467",
         "38040.848"
        ]
       ],
       "shape": {
        "columns": 9,
        "rows": 24
       }
      },
      "text/html": [
       "<div>\n",
       "<style scoped>\n",
       "    .dataframe tbody tr th:only-of-type {\n",
       "        vertical-align: middle;\n",
       "    }\n",
       "\n",
       "    .dataframe tbody tr th {\n",
       "        vertical-align: top;\n",
       "    }\n",
       "\n",
       "    .dataframe thead th {\n",
       "        text-align: right;\n",
       "    }\n",
       "</style>\n",
       "<table border=\"1\" class=\"dataframe\">\n",
       "  <thead>\n",
       "    <tr style=\"text-align: right;\">\n",
       "      <th></th>\n",
       "      <th>unique_id</th>\n",
       "      <th>ds</th>\n",
       "      <th>GRU</th>\n",
       "      <th>NBEATS</th>\n",
       "      <th>NHITS</th>\n",
       "      <th>TiDE</th>\n",
       "      <th>Informer</th>\n",
       "      <th>BiTCN</th>\n",
       "      <th>TFT</th>\n",
       "    </tr>\n",
       "  </thead>\n",
       "  <tbody>\n",
       "    <tr>\n",
       "      <th>0</th>\n",
       "      <td>1.0</td>\n",
       "      <td>2017-04-30 23:00:00</td>\n",
       "      <td>27619.140625</td>\n",
       "      <td>26552.798828</td>\n",
       "      <td>26676.062500</td>\n",
       "      <td>27865.156250</td>\n",
       "      <td>25869.949219</td>\n",
       "      <td>27629.246094</td>\n",
       "      <td>27007.353516</td>\n",
       "    </tr>\n",
       "    <tr>\n",
       "      <th>1</th>\n",
       "      <td>1.0</td>\n",
       "      <td>2017-05-31 23:00:00</td>\n",
       "      <td>24362.449219</td>\n",
       "      <td>24155.341797</td>\n",
       "      <td>24037.763672</td>\n",
       "      <td>23926.396484</td>\n",
       "      <td>24651.494141</td>\n",
       "      <td>24586.396484</td>\n",
       "      <td>24575.158203</td>\n",
       "    </tr>\n",
       "    <tr>\n",
       "      <th>2</th>\n",
       "      <td>1.0</td>\n",
       "      <td>2017-06-30 23:00:00</td>\n",
       "      <td>22561.761719</td>\n",
       "      <td>22366.441406</td>\n",
       "      <td>22218.332031</td>\n",
       "      <td>21983.500000</td>\n",
       "      <td>22115.767578</td>\n",
       "      <td>23060.937500</td>\n",
       "      <td>22802.542969</td>\n",
       "    </tr>\n",
       "    <tr>\n",
       "      <th>3</th>\n",
       "      <td>1.0</td>\n",
       "      <td>2017-07-31 23:00:00</td>\n",
       "      <td>21812.837891</td>\n",
       "      <td>22132.464844</td>\n",
       "      <td>21948.980469</td>\n",
       "      <td>21959.070312</td>\n",
       "      <td>22902.796875</td>\n",
       "      <td>22740.632812</td>\n",
       "      <td>22140.843750</td>\n",
       "    </tr>\n",
       "    <tr>\n",
       "      <th>4</th>\n",
       "      <td>1.0</td>\n",
       "      <td>2017-08-31 23:00:00</td>\n",
       "      <td>22199.726562</td>\n",
       "      <td>22356.082031</td>\n",
       "      <td>22202.945312</td>\n",
       "      <td>22198.677734</td>\n",
       "      <td>20107.609375</td>\n",
       "      <td>22592.074219</td>\n",
       "      <td>22218.273438</td>\n",
       "    </tr>\n",
       "    <tr>\n",
       "      <th>5</th>\n",
       "      <td>1.0</td>\n",
       "      <td>2017-09-30 23:00:00</td>\n",
       "      <td>20311.812500</td>\n",
       "      <td>21312.109375</td>\n",
       "      <td>21871.851562</td>\n",
       "      <td>21745.664062</td>\n",
       "      <td>21927.769531</td>\n",
       "      <td>22144.617188</td>\n",
       "      <td>22704.181641</td>\n",
       "    </tr>\n",
       "    <tr>\n",
       "      <th>6</th>\n",
       "      <td>1.0</td>\n",
       "      <td>2017-10-31 23:00:00</td>\n",
       "      <td>19836.085938</td>\n",
       "      <td>20601.226562</td>\n",
       "      <td>21005.123047</td>\n",
       "      <td>20984.023438</td>\n",
       "      <td>22597.269531</td>\n",
       "      <td>21991.449219</td>\n",
       "      <td>23499.816406</td>\n",
       "    </tr>\n",
       "    <tr>\n",
       "      <th>7</th>\n",
       "      <td>1.0</td>\n",
       "      <td>2017-11-30 23:00:00</td>\n",
       "      <td>20352.945312</td>\n",
       "      <td>21999.732422</td>\n",
       "      <td>21680.435547</td>\n",
       "      <td>21634.533203</td>\n",
       "      <td>22546.171875</td>\n",
       "      <td>22734.871094</td>\n",
       "      <td>24600.830078</td>\n",
       "    </tr>\n",
       "    <tr>\n",
       "      <th>8</th>\n",
       "      <td>1.0</td>\n",
       "      <td>2017-12-31 23:00:00</td>\n",
       "      <td>22509.812500</td>\n",
       "      <td>24698.500000</td>\n",
       "      <td>24609.111328</td>\n",
       "      <td>25214.798828</td>\n",
       "      <td>20490.296875</td>\n",
       "      <td>24690.042969</td>\n",
       "      <td>25967.802734</td>\n",
       "    </tr>\n",
       "    <tr>\n",
       "      <th>9</th>\n",
       "      <td>1.0</td>\n",
       "      <td>2018-01-31 23:00:00</td>\n",
       "      <td>25640.330078</td>\n",
       "      <td>28240.398438</td>\n",
       "      <td>28428.367188</td>\n",
       "      <td>28142.080078</td>\n",
       "      <td>28198.699219</td>\n",
       "      <td>27441.812500</td>\n",
       "      <td>27549.640625</td>\n",
       "    </tr>\n",
       "    <tr>\n",
       "      <th>10</th>\n",
       "      <td>1.0</td>\n",
       "      <td>2018-02-28 23:00:00</td>\n",
       "      <td>29473.341797</td>\n",
       "      <td>31661.517578</td>\n",
       "      <td>31620.585938</td>\n",
       "      <td>32496.521484</td>\n",
       "      <td>30006.707031</td>\n",
       "      <td>30925.292969</td>\n",
       "      <td>29219.978516</td>\n",
       "    </tr>\n",
       "    <tr>\n",
       "      <th>11</th>\n",
       "      <td>1.0</td>\n",
       "      <td>2018-03-31 23:00:00</td>\n",
       "      <td>31792.402344</td>\n",
       "      <td>33643.132812</td>\n",
       "      <td>33929.097656</td>\n",
       "      <td>32571.943359</td>\n",
       "      <td>34638.671875</td>\n",
       "      <td>33543.976562</td>\n",
       "      <td>30623.558594</td>\n",
       "    </tr>\n",
       "    <tr>\n",
       "      <th>12</th>\n",
       "      <td>1.0</td>\n",
       "      <td>2018-04-30 23:00:00</td>\n",
       "      <td>33117.164062</td>\n",
       "      <td>33638.523438</td>\n",
       "      <td>34316.890625</td>\n",
       "      <td>34039.296875</td>\n",
       "      <td>37196.929688</td>\n",
       "      <td>35009.164062</td>\n",
       "      <td>31578.578125</td>\n",
       "    </tr>\n",
       "    <tr>\n",
       "      <th>13</th>\n",
       "      <td>1.0</td>\n",
       "      <td>2018-05-31 23:00:00</td>\n",
       "      <td>33272.238281</td>\n",
       "      <td>33400.250000</td>\n",
       "      <td>33911.484375</td>\n",
       "      <td>35489.523438</td>\n",
       "      <td>36308.507812</td>\n",
       "      <td>34047.257812</td>\n",
       "      <td>32214.605469</td>\n",
       "    </tr>\n",
       "    <tr>\n",
       "      <th>14</th>\n",
       "      <td>1.0</td>\n",
       "      <td>2018-06-30 23:00:00</td>\n",
       "      <td>32674.240234</td>\n",
       "      <td>33002.445312</td>\n",
       "      <td>33516.039062</td>\n",
       "      <td>32099.810547</td>\n",
       "      <td>35306.226562</td>\n",
       "      <td>32758.029297</td>\n",
       "      <td>32705.056641</td>\n",
       "    </tr>\n",
       "    <tr>\n",
       "      <th>15</th>\n",
       "      <td>1.0</td>\n",
       "      <td>2018-07-31 23:00:00</td>\n",
       "      <td>32064.695312</td>\n",
       "      <td>32374.748047</td>\n",
       "      <td>33147.496094</td>\n",
       "      <td>32435.511719</td>\n",
       "      <td>32928.910156</td>\n",
       "      <td>30930.996094</td>\n",
       "      <td>33181.539062</td>\n",
       "    </tr>\n",
       "    <tr>\n",
       "      <th>16</th>\n",
       "      <td>1.0</td>\n",
       "      <td>2018-08-31 23:00:00</td>\n",
       "      <td>31243.751953</td>\n",
       "      <td>31343.193359</td>\n",
       "      <td>32120.447266</td>\n",
       "      <td>32847.972656</td>\n",
       "      <td>37968.406250</td>\n",
       "      <td>31115.867188</td>\n",
       "      <td>33738.546875</td>\n",
       "    </tr>\n",
       "    <tr>\n",
       "      <th>17</th>\n",
       "      <td>1.0</td>\n",
       "      <td>2018-09-30 23:00:00</td>\n",
       "      <td>31297.591797</td>\n",
       "      <td>31572.150391</td>\n",
       "      <td>31923.347656</td>\n",
       "      <td>32629.798828</td>\n",
       "      <td>33331.191406</td>\n",
       "      <td>32416.105469</td>\n",
       "      <td>34415.281250</td>\n",
       "    </tr>\n",
       "    <tr>\n",
       "      <th>18</th>\n",
       "      <td>1.0</td>\n",
       "      <td>2018-10-31 23:00:00</td>\n",
       "      <td>33098.078125</td>\n",
       "      <td>36103.144531</td>\n",
       "      <td>36997.535156</td>\n",
       "      <td>36940.800781</td>\n",
       "      <td>38451.183594</td>\n",
       "      <td>36393.722656</td>\n",
       "      <td>35172.871094</td>\n",
       "    </tr>\n",
       "    <tr>\n",
       "      <th>19</th>\n",
       "      <td>1.0</td>\n",
       "      <td>2018-11-30 23:00:00</td>\n",
       "      <td>41459.953125</td>\n",
       "      <td>41903.300781</td>\n",
       "      <td>42263.605469</td>\n",
       "      <td>41089.160156</td>\n",
       "      <td>38514.511719</td>\n",
       "      <td>40257.300781</td>\n",
       "      <td>35926.964844</td>\n",
       "    </tr>\n",
       "    <tr>\n",
       "      <th>20</th>\n",
       "      <td>1.0</td>\n",
       "      <td>2018-12-31 23:00:00</td>\n",
       "      <td>42511.457031</td>\n",
       "      <td>42490.644531</td>\n",
       "      <td>42846.671875</td>\n",
       "      <td>41874.457031</td>\n",
       "      <td>38629.816406</td>\n",
       "      <td>41847.671875</td>\n",
       "      <td>36615.039062</td>\n",
       "    </tr>\n",
       "    <tr>\n",
       "      <th>21</th>\n",
       "      <td>1.0</td>\n",
       "      <td>2019-01-31 23:00:00</td>\n",
       "      <td>41972.898438</td>\n",
       "      <td>40331.601562</td>\n",
       "      <td>41032.445312</td>\n",
       "      <td>40543.960938</td>\n",
       "      <td>38889.777344</td>\n",
       "      <td>40864.906250</td>\n",
       "      <td>37206.183594</td>\n",
       "    </tr>\n",
       "    <tr>\n",
       "      <th>22</th>\n",
       "      <td>1.0</td>\n",
       "      <td>2019-02-28 23:00:00</td>\n",
       "      <td>38336.429688</td>\n",
       "      <td>36746.386719</td>\n",
       "      <td>37335.554688</td>\n",
       "      <td>37602.683594</td>\n",
       "      <td>39016.039062</td>\n",
       "      <td>37419.730469</td>\n",
       "      <td>37683.562500</td>\n",
       "    </tr>\n",
       "    <tr>\n",
       "      <th>23</th>\n",
       "      <td>1.0</td>\n",
       "      <td>2019-03-31 23:00:00</td>\n",
       "      <td>31818.996094</td>\n",
       "      <td>31501.351562</td>\n",
       "      <td>31651.425781</td>\n",
       "      <td>32275.208984</td>\n",
       "      <td>38824.035156</td>\n",
       "      <td>32328.466797</td>\n",
       "      <td>38040.847656</td>\n",
       "    </tr>\n",
       "  </tbody>\n",
       "</table>\n",
       "</div>"
      ],
      "text/plain": [
       "    unique_id                  ds           GRU        NBEATS         NHITS  \\\n",
       "0         1.0 2017-04-30 23:00:00  27619.140625  26552.798828  26676.062500   \n",
       "1         1.0 2017-05-31 23:00:00  24362.449219  24155.341797  24037.763672   \n",
       "2         1.0 2017-06-30 23:00:00  22561.761719  22366.441406  22218.332031   \n",
       "3         1.0 2017-07-31 23:00:00  21812.837891  22132.464844  21948.980469   \n",
       "4         1.0 2017-08-31 23:00:00  22199.726562  22356.082031  22202.945312   \n",
       "5         1.0 2017-09-30 23:00:00  20311.812500  21312.109375  21871.851562   \n",
       "6         1.0 2017-10-31 23:00:00  19836.085938  20601.226562  21005.123047   \n",
       "7         1.0 2017-11-30 23:00:00  20352.945312  21999.732422  21680.435547   \n",
       "8         1.0 2017-12-31 23:00:00  22509.812500  24698.500000  24609.111328   \n",
       "9         1.0 2018-01-31 23:00:00  25640.330078  28240.398438  28428.367188   \n",
       "10        1.0 2018-02-28 23:00:00  29473.341797  31661.517578  31620.585938   \n",
       "11        1.0 2018-03-31 23:00:00  31792.402344  33643.132812  33929.097656   \n",
       "12        1.0 2018-04-30 23:00:00  33117.164062  33638.523438  34316.890625   \n",
       "13        1.0 2018-05-31 23:00:00  33272.238281  33400.250000  33911.484375   \n",
       "14        1.0 2018-06-30 23:00:00  32674.240234  33002.445312  33516.039062   \n",
       "15        1.0 2018-07-31 23:00:00  32064.695312  32374.748047  33147.496094   \n",
       "16        1.0 2018-08-31 23:00:00  31243.751953  31343.193359  32120.447266   \n",
       "17        1.0 2018-09-30 23:00:00  31297.591797  31572.150391  31923.347656   \n",
       "18        1.0 2018-10-31 23:00:00  33098.078125  36103.144531  36997.535156   \n",
       "19        1.0 2018-11-30 23:00:00  41459.953125  41903.300781  42263.605469   \n",
       "20        1.0 2018-12-31 23:00:00  42511.457031  42490.644531  42846.671875   \n",
       "21        1.0 2019-01-31 23:00:00  41972.898438  40331.601562  41032.445312   \n",
       "22        1.0 2019-02-28 23:00:00  38336.429688  36746.386719  37335.554688   \n",
       "23        1.0 2019-03-31 23:00:00  31818.996094  31501.351562  31651.425781   \n",
       "\n",
       "            TiDE      Informer         BiTCN           TFT  \n",
       "0   27865.156250  25869.949219  27629.246094  27007.353516  \n",
       "1   23926.396484  24651.494141  24586.396484  24575.158203  \n",
       "2   21983.500000  22115.767578  23060.937500  22802.542969  \n",
       "3   21959.070312  22902.796875  22740.632812  22140.843750  \n",
       "4   22198.677734  20107.609375  22592.074219  22218.273438  \n",
       "5   21745.664062  21927.769531  22144.617188  22704.181641  \n",
       "6   20984.023438  22597.269531  21991.449219  23499.816406  \n",
       "7   21634.533203  22546.171875  22734.871094  24600.830078  \n",
       "8   25214.798828  20490.296875  24690.042969  25967.802734  \n",
       "9   28142.080078  28198.699219  27441.812500  27549.640625  \n",
       "10  32496.521484  30006.707031  30925.292969  29219.978516  \n",
       "11  32571.943359  34638.671875  33543.976562  30623.558594  \n",
       "12  34039.296875  37196.929688  35009.164062  31578.578125  \n",
       "13  35489.523438  36308.507812  34047.257812  32214.605469  \n",
       "14  32099.810547  35306.226562  32758.029297  32705.056641  \n",
       "15  32435.511719  32928.910156  30930.996094  33181.539062  \n",
       "16  32847.972656  37968.406250  31115.867188  33738.546875  \n",
       "17  32629.798828  33331.191406  32416.105469  34415.281250  \n",
       "18  36940.800781  38451.183594  36393.722656  35172.871094  \n",
       "19  41089.160156  38514.511719  40257.300781  35926.964844  \n",
       "20  41874.457031  38629.816406  41847.671875  36615.039062  \n",
       "21  40543.960938  38889.777344  40864.906250  37206.183594  \n",
       "22  37602.683594  39016.039062  37419.730469  37683.562500  \n",
       "23  32275.208984  38824.035156  32328.466797  38040.847656  "
      ]
     },
     "execution_count": 62,
     "metadata": {},
     "output_type": "execute_result"
    }
   ],
   "source": [
    "yy_hat_dict"
   ]
  },
  {
   "cell_type": "code",
   "execution_count": 63,
   "id": "3a79a9cb",
   "metadata": {},
   "outputs": [
    {
     "data": {
      "text/plain": [
       "array([27295.41442333, 24612.787945  , 23649.687835  , 23711.68998833,\n",
       "       24111.60387333, 21503.37997833, 23196.03875167, 25868.33154   ,\n",
       "       26693.99354167, 28792.76641667, 31442.32508167, 35657.43810667,\n",
       "       36051.151775  , 34824.54252   , 33956.51237833, 33257.95479167,\n",
       "       32777.438105  , 33346.82454167, 35563.40150667, 43435.60818167,\n",
       "       44193.06781333, 41840.086115  , 37229.19267833, 31598.36383167])"
      ]
     },
     "execution_count": 63,
     "metadata": {},
     "output_type": "execute_result"
    }
   ],
   "source": [
    "((X_test[:24])['y']).values"
   ]
  },
  {
   "cell_type": "code",
   "execution_count": 64,
   "id": "76a789df",
   "metadata": {},
   "outputs": [
    {
     "data": {
      "image/png": "[encoded data removed]",
      "text/plain": [
       "<Figure size 640x480 with 1 Axes>"
      ]
     },
     "metadata": {
      "image/png": {
       "height": 470,
       "width": 630
      }
     },
     "output_type": "display_data"
    }
   ],
   "source": [
    "models_names = ['NHITS', 'NBEATS', 'TiDE', 'GRU', 'TFT', 'Informer', 'BiTCN']\n",
    "models_familys = [ 'MLP', 'MLP', 'MLP', 'RNN', 'Transformer', 'Transformer', 'CNN']\n",
    "\n",
    "y_test = (X_test[:24]['y']).values\n",
    "\n",
    "plt.plot(y_test, label=\"original\", ls='--')\n",
    "\n",
    "for name in models_names:\n",
    "    y_pred = (yy_hat_dict[name]).values\n",
    "    plt.plot(y_pred, label=name)\n",
    "\n",
    "plt.ylabel(\"Потребление электричества, кВт\")\n",
    "plt.xlabel(\"Время t, ч\")\n",
    "plt.grid(True, 'major', 'both', ls='--', lw=.5, c='k', alpha=.3)\n",
    "plt.legend()\n",
    "\n",
    "plt.tight_layout()\n",
    "plt.savefig(\"compare.pdf\")"
   ]
  },
  {
   "cell_type": "code",
   "execution_count": 65,
   "id": "293fb91d",
   "metadata": {},
   "outputs": [],
   "source": [
    "from sklearn.metrics import r2_score\n",
    "from sklearn.metrics import explained_variance_score\n",
    "from sklearn.metrics import mean_absolute_percentage_error\n",
    "from sklearn.metrics import mean_absolute_error\n",
    "\n",
    "def bench_model(y_test, y_pred, model_name, model_family):\n",
    "    mae = mean_absolute_error(y_test, y_pred)\n",
    "    mape = mean_absolute_percentage_error(y_test, y_pred)\n",
    "    R2 = r2_score(y_test, y_pred)\n",
    "    exp_var = explained_variance_score(y_test, y_pred)\n",
    "    \n",
    "    new_row = pd.Series({'Model':model_name, 'Family': model_family, 'MAPE': mape, 'MAE': mae, \"R^2\" : R2, \"EV\" : exp_var})\n",
    "\n",
    "    return new_row"
   ]
  },
  {
   "cell_type": "code",
   "execution_count": 66,
   "id": "2831690c",
   "metadata": {},
   "outputs": [
    {
     "name": "stdout",
     "output_type": "stream",
     "text": [
      "      Model       Family      MAPE          MAE       R^2        EV\n",
      "0     NHITS          MLP  0.039726  1149.940925  0.947890  0.970637\n",
      "1    NBEATS          MLP  0.044487  1333.332768  0.938842  0.977712\n",
      "2      TiDE          MLP  0.046935  1419.916550  0.929104  0.953239\n",
      "3       GRU          RNN  0.065780  1951.594862  0.866726  0.945050\n",
      "4       TFT  Transformer  0.065606  2253.439248  0.749051  0.795219\n",
      "5  Informer  Transformer  0.073771  2344.104400  0.764465  0.771744\n",
      "6     BiTCN          CNN  0.040790  1274.628955  0.943828  0.970266\n"
     ]
    }
   ],
   "source": [
    "model_rows = []\n",
    "\n",
    "for (name, family) in zip(models_names, models_familys):\n",
    "    y_pred = (yy_hat_dict[name]).values\n",
    "    row = bench_model(y_test, y_pred, name, family)\n",
    "    df_row = pd.DataFrame([row], columns=row.index)\n",
    "    model_rows.append(df_row)\n",
    "\n",
    "\n",
    "df = pd.DataFrame()\n",
    "\n",
    "df = pd.concat(model_rows).reset_index(drop=True)\n",
    "print(df)"
   ]
  }
 ],
 "metadata": {
  "kernelspec": {
   "display_name": "Python 3",
   "language": "python",
   "name": "python3"
  },
  "language_info": {
   "codemirror_mode": {
    "name": "ipython",
    "version": 3
   },
   "file_extension": ".py",
   "mimetype": "text/x-python",
   "name": "python",
   "nbconvert_exporter": "python",
   "pygments_lexer": "ipython3",
   "version": "3.12.5"
  }
 },
 "nbformat": 4,
 "nbformat_minor": 5
}
